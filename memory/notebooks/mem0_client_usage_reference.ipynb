{
 "cells": [
  {
   "cell_type": "markdown",
   "id": "dc59c33c",
   "metadata": {},
   "source": [
    "# Mem0 Client\n",
    "\n",
    "This notebook demonstrates how to use the Mem0 client for memory management. This version connects to the Mem0 cloud API for testing."
   ]
  },
  {
   "cell_type": "markdown",
   "id": "f13de3cd",
   "metadata": {},
   "source": [
    "## Installation and Setup"
   ]
  },
  {
   "cell_type": "code",
   "execution_count": 25,
   "id": "42aa1d2a",
   "metadata": {},
   "outputs": [
    {
     "name": "stdout",
     "output_type": "stream",
     "text": [
      "Connected to Mem0 cloud API\n"
     ]
    },
    {
     "data": {
      "text/plain": [
       "<mem0.client.main.MemoryClient at 0x7223d1cee090>"
      ]
     },
     "execution_count": 25,
     "metadata": {},
     "output_type": "execute_result"
    }
   ],
   "source": [
    "# Install Mem0 (if not already installed)\n",
    "# !pip install mem0ai\n",
    "\n",
    "import os\n",
    "\n",
    "from dotenv import load_dotenv\n",
    "from mem0 import MemoryClient\n",
    "\n",
    "# Load environment variables\n",
    "load_dotenv(override=True)\n",
    "\n",
    "# Initialize Mem0 client for cloud API\n",
    "api_key = os.getenv(\"MEM0_API_KEY\")\n",
    "if api_key:\n",
    "    client = MemoryClient(api_key=api_key)\n",
    "    print(\"Connected to Mem0 cloud API\")\n",
    "else:\n",
    "    print(\"MEM0_API_KEY not found in environment variables\")\n",
    "    print(\"Please set your API key in the .env file or environment\")\n",
    "    client = None\n",
    "\n",
    "client"
   ]
  },
  {
   "cell_type": "markdown",
   "id": "ee784dc7",
   "metadata": {},
   "source": [
    "## Basic Memory Operations"
   ]
  },
  {
   "cell_type": "markdown",
   "id": "6fd602eb",
   "metadata": {},
   "source": [
    "### Adding Memories\n",
    "\n",
    "Memories are created from conversation messages. Each memory captures user preferences, facts, and context."
   ]
  },
  {
   "cell_type": "code",
   "execution_count": null,
   "id": "d1686891",
   "metadata": {},
   "outputs": [
    {
     "name": "stdout",
     "output_type": "stream",
     "text": [
      "Memory added: {'results': [{'id': '896d8de2-e5ef-443c-ac3a-a2ace5029215', 'event': 'ADD', 'memory': 'User Name is Alice', 'structured_attributes': {'day': 29, 'hour': 12, 'year': 2025, 'month': 9, 'minute': 20, 'quarter': 3, 'is_weekend': False, 'day_of_week': 'monday', 'day_of_year': 272, 'week_of_year': 40}}, {'id': 'c3aa5c1b-0157-441a-9aed-6308159600ad', 'event': 'ADD', 'memory': 'Alice Loves Italian food', 'structured_attributes': {'day': 29, 'hour': 12, 'year': 2025, 'month': 9, 'minute': 20, 'quarter': 3, 'is_weekend': False, 'day_of_week': 'monday', 'day_of_year': 272, 'week_of_year': 40}}, {'id': '1243382d-b5b9-42c1-b79a-892443d9b5ce', 'event': 'ADD', 'memory': 'Alice Prefers vegetarian options', 'structured_attributes': {'day': 29, 'hour': 12, 'year': 2025, 'month': 9, 'minute': 20, 'quarter': 3, 'is_weekend': False, 'day_of_week': 'monday', 'day_of_year': 272, 'week_of_year': 40}}]}\n"
     ]
    }
   ],
   "source": [
    "# Example: Adding user preferences\n",
    "messages = [\n",
    "    {\"role\": \"user\", \"content\": \"I love Italian food and prefer vegetarian options\"},\n",
    "    {\n",
    "        \"role\": \"assistant\",\n",
    "        \"content\": \"I'll remember your preference for Italian cuisine and vegetarian dishes!\",\n",
    "    },\n",
    "]\n",
    "\n",
    "result = client.add(\n",
    "    messages=messages,\n",
    "    user_id=\"alice\",\n",
    "    metadata={\"category\": \"food_preferences\", \"source\": \"chat\"},\n",
    ")\n",
    "\n",
    "print(\"Memory added:\", result)"
   ]
  },
  {
   "cell_type": "code",
   "execution_count": null,
   "id": "c46ea607",
   "metadata": {},
   "outputs": [
    {
     "data": {
      "text/plain": [
       "{'results': [{'id': 'ecaf358e-cb0e-4df8-b939-b6997da11d59',\n",
       "   'event': 'ADD',\n",
       "   'memory': 'User works best in the afternoon',\n",
       "   'structured_attributes': {'day': 29,\n",
       "    'hour': 12,\n",
       "    'year': 2025,\n",
       "    'month': 9,\n",
       "    'minute': 21,\n",
       "    'quarter': 3,\n",
       "    'is_weekend': False,\n",
       "    'day_of_week': 'monday',\n",
       "    'day_of_year': 272,\n",
       "    'week_of_year': 40}},\n",
       "  {'id': '843429e1-1289-477c-ae69-fbb146bab14f',\n",
       "   'event': 'ADD',\n",
       "   'memory': 'User enjoys coffee',\n",
       "   'structured_attributes': {'day': 29,\n",
       "    'hour': 12,\n",
       "    'year': 2025,\n",
       "    'month': 9,\n",
       "    'minute': 21,\n",
       "    'quarter': 3,\n",
       "    'is_weekend': False,\n",
       "    'day_of_week': 'monday',\n",
       "    'day_of_year': 272,\n",
       "    'week_of_year': 40}}]}"
      ]
     },
     "execution_count": 10,
     "metadata": {},
     "output_type": "execute_result"
    }
   ],
   "source": [
    "# Add more memories for the same user\n",
    "client.add(\n",
    "    messages=[\n",
    "        {\"role\": \"user\", \"content\": \"I'm allergic to nuts and prefer morning meetings\"},\n",
    "        {\n",
    "            \"role\": \"assistant\",\n",
    "            \"content\": \"Noted! I'll avoid nuts in recommendations and schedule meetings in the morning.\",\n",
    "        },\n",
    "    ],\n",
    "    user_id=\"alice\",\n",
    "    metadata={\"category\": \"health\", \"source\": \"chat\"},\n",
    ")\n",
    "\n",
    "# Add memories for different users\n",
    "client.add(\n",
    "    messages=[\n",
    "        {\"role\": \"user\", \"content\": \"I work best in the afternoon and enjoy coffee\"},\n",
    "        {\n",
    "            \"role\": \"assistant\",\n",
    "            \"content\": \"I'll schedule your tasks for afternoon hours and remember your coffee preference.\",\n",
    "        },\n",
    "    ],\n",
    "    user_id=\"bob\",\n",
    "    metadata={\"category\": \"work_habits\", \"source\": \"chat\"},\n",
    ")"
   ]
  },
  {
   "cell_type": "markdown",
   "id": "fd9fb5f0",
   "metadata": {},
   "source": [
    "### Retrieving Memories\n",
    "\n",
    "You can retrieve specific memories by their ID or search for memories using natural language queries."
   ]
  },
  {
   "cell_type": "code",
   "execution_count": 11,
   "id": "57761c9a",
   "metadata": {},
   "outputs": [
    {
     "name": "stdout",
     "output_type": "stream",
     "text": [
      "Retrieved memory: {'id': '896d8de2-e5ef-443c-ac3a-a2ace5029215', 'memory': 'User Name is Alice', 'user_id': 'alice', 'metadata': {'source': 'chat', 'category': 'food_preferences'}, 'categories': ['personal_details'], 'created_at': '2025-09-29T05:20:51.480770-07:00', 'updated_at': '2025-09-29T05:20:51.541133-07:00', 'expiration_date': None, 'structured_attributes': {'day': 29, 'hour': 12, 'year': 2025, 'month': 9, 'minute': 20, 'quarter': 3, 'is_weekend': False, 'day_of_week': 'monday', 'day_of_year': 272, 'week_of_year': 40}}\n"
     ]
    }
   ],
   "source": [
    "# Get a specific memory by ID\n",
    "memory_id = result[\"results\"][0][\"id\"]\n",
    "memory = client.get(memory_id)\n",
    "print(\"Retrieved memory:\", memory)"
   ]
  },
  {
   "cell_type": "markdown",
   "id": "5e0a622a",
   "metadata": {},
   "source": [
    "### Searching Memories\n",
    "\n",
    "Mem0 provides powerful semantic search capabilities to find relevant memories based on natural language queries."
   ]
  },
  {
   "cell_type": "code",
   "execution_count": 24,
   "id": "35cc9f80",
   "metadata": {},
   "outputs": [
    {
     "name": "stdout",
     "output_type": "stream",
     "text": [
      "Food preferences: [{'id': 'c3aa5c1b-0157-441a-9aed-6308159600ad', 'memory': 'Alice Loves Italian food', 'user_id': 'alice', 'metadata': {'source': 'chat', 'category': 'food_preferences'}, 'categories': ['food'], 'created_at': '2025-09-29T05:20:51.629266-07:00', 'updated_at': '2025-09-29T05:20:51.685844-07:00', 'expiration_date': None, 'structured_attributes': {'day': 29, 'hour': 12, 'year': 2025, 'month': 9, 'minute': 20, 'quarter': 3, 'is_weekend': False, 'day_of_week': 'monday', 'day_of_year': 272, 'week_of_year': 40}, 'score': 0.7716978558392003}, {'id': '1243382d-b5b9-42c1-b79a-892443d9b5ce', 'memory': 'Alice Prefers vegetarian options', 'user_id': 'alice', 'metadata': {'source': 'chat', 'category': 'food_preferences'}, 'categories': ['food'], 'created_at': '2025-09-29T05:20:51.767905-07:00', 'updated_at': '2025-09-29T05:20:51.829601-07:00', 'expiration_date': None, 'structured_attributes': {'day': 29, 'hour': 12, 'year': 2025, 'month': 9, 'minute': 20, 'quarter': 3, 'is_weekend': False, 'day_of_week': 'monday', 'day_of_year': 272, 'week_of_year': 40}, 'score': 0.7009456366582407}, {'id': '80ebc7b4-e774-4c52-a698-c5dc81f749d0', 'memory': 'Alice Is allergic to nuts', 'user_id': 'alice', 'metadata': {'source': 'chat', 'category': 'health'}, 'categories': ['health'], 'created_at': '2025-09-29T05:21:24.759045-07:00', 'updated_at': '2025-09-29T05:21:24.818729-07:00', 'expiration_date': None, 'structured_attributes': {'day': 29, 'hour': 12, 'year': 2025, 'month': 9, 'minute': 21, 'quarter': 3, 'is_weekend': False, 'day_of_week': 'monday', 'day_of_year': 272, 'week_of_year': 40}, 'score': 0.6309360045752528}, {'id': '61848fd8-076e-4d1f-8e9c-6216f8e1a471', 'memory': 'Alice Prefers morning meetings', 'user_id': 'alice', 'metadata': {'source': 'chat', 'category': 'health'}, 'categories': ['user_preferences'], 'created_at': '2025-09-29T05:21:24.927526-07:00', 'updated_at': '2025-09-29T05:21:24.988556-07:00', 'expiration_date': None, 'structured_attributes': {'day': 29, 'hour': 12, 'year': 2025, 'month': 9, 'minute': 21, 'quarter': 3, 'is_weekend': False, 'day_of_week': 'monday', 'day_of_year': 272, 'week_of_year': 40}, 'score': 0.6092288675674461}]\n"
     ]
    }
   ],
   "source": [
    "# Search for food preferences\n",
    "food_results = client.search(\n",
    "    query=\"What food does Alice like?\", user_id=\"alice\", limit=5\n",
    ")\n",
    "print(\"Food preferences:\", food_results)"
   ]
  },
  {
   "cell_type": "code",
   "execution_count": null,
   "id": "fec7446a",
   "metadata": {},
   "outputs": [
    {
     "name": "stdout",
     "output_type": "stream",
     "text": [
      "Health information: [{'id': '80ebc7b4-e774-4c52-a698-c5dc81f749d0', 'memory': 'Alice Is allergic to nuts', 'user_id': 'alice', 'metadata': {'source': 'chat', 'category': 'health'}, 'categories': ['health'], 'created_at': '2025-09-29T05:21:24.759045-07:00', 'updated_at': '2025-09-29T05:21:24.818729-07:00', 'expiration_date': None, 'structured_attributes': {'day': 29, 'hour': 12, 'year': 2025, 'month': 9, 'minute': 21, 'quarter': 3, 'is_weekend': False, 'day_of_week': 'monday', 'day_of_year': 272, 'week_of_year': 40}, 'score': 0.5349697193485331}, {'id': '1243382d-b5b9-42c1-b79a-892443d9b5ce', 'memory': 'Alice Prefers vegetarian options', 'user_id': 'alice', 'metadata': {'source': 'chat', 'category': 'food_preferences'}, 'categories': ['food'], 'created_at': '2025-09-29T05:20:51.767905-07:00', 'updated_at': '2025-09-29T05:20:51.829601-07:00', 'expiration_date': None, 'structured_attributes': {'day': 29, 'hour': 12, 'year': 2025, 'month': 9, 'minute': 20, 'quarter': 3, 'is_weekend': False, 'day_of_week': 'monday', 'day_of_year': 272, 'week_of_year': 40}, 'score': 0.4620217818624315}, {'id': 'c3aa5c1b-0157-441a-9aed-6308159600ad', 'memory': 'Alice Loves Italian food', 'user_id': 'alice', 'metadata': {'source': 'chat', 'category': 'food_preferences'}, 'categories': ['food'], 'created_at': '2025-09-29T05:20:51.629266-07:00', 'updated_at': '2025-09-29T05:20:51.685844-07:00', 'expiration_date': None, 'structured_attributes': {'day': 29, 'hour': 12, 'year': 2025, 'month': 9, 'minute': 20, 'quarter': 3, 'is_weekend': False, 'day_of_week': 'monday', 'day_of_year': 272, 'week_of_year': 40}, 'score': 0.4248885683748569}, {'id': '61848fd8-076e-4d1f-8e9c-6216f8e1a471', 'memory': 'Alice Prefers morning meetings', 'user_id': 'alice', 'metadata': {'source': 'chat', 'category': 'health'}, 'categories': ['user_preferences'], 'created_at': '2025-09-29T05:21:24.927526-07:00', 'updated_at': '2025-09-29T05:21:24.988556-07:00', 'expiration_date': None, 'structured_attributes': {'day': 29, 'hour': 12, 'year': 2025, 'month': 9, 'minute': 21, 'quarter': 3, 'is_weekend': False, 'day_of_week': 'monday', 'day_of_year': 272, 'week_of_year': 40}, 'score': 0.3966468392803325}, {'id': '896d8de2-e5ef-443c-ac3a-a2ace5029215', 'memory': 'User Name is Alice', 'user_id': 'alice', 'metadata': {'source': 'chat', 'category': 'food_preferences'}, 'categories': ['personal_details'], 'created_at': '2025-09-29T05:20:51.480770-07:00', 'updated_at': '2025-09-29T05:20:51.541133-07:00', 'expiration_date': None, 'structured_attributes': {'day': 29, 'hour': 12, 'year': 2025, 'month': 9, 'minute': 20, 'quarter': 3, 'is_weekend': False, 'day_of_week': 'monday', 'day_of_year': 272, 'week_of_year': 40}, 'score': 0.341330280383246}]\n"
     ]
    }
   ],
   "source": [
    "# Search for health information\n",
    "health_results = client.search(\n",
    "    query=\"Any allergies or restrictions?\", user_id=\"alice\", limit=5\n",
    ")\n",
    "print(\"Health information:\", health_results)"
   ]
  },
  {
   "cell_type": "code",
   "execution_count": null,
   "id": "1d1b5a26",
   "metadata": {},
   "outputs": [
    {
     "name": "stdout",
     "output_type": "stream",
     "text": [
      "Coffee preferences: [{'id': '843429e1-1289-477c-ae69-fbb146bab14f', 'memory': 'User enjoys coffee', 'user_id': 'bob', 'metadata': {'source': 'chat', 'category': 'work_habits'}, 'categories': ['food', 'user_preferences'], 'created_at': '2025-09-29T05:21:30.025412-07:00', 'updated_at': '2025-09-29T05:21:30.085495-07:00', 'expiration_date': None, 'structured_attributes': {'day': 29, 'hour': 12, 'year': 2025, 'month': 9, 'minute': 21, 'quarter': 3, 'is_weekend': False, 'day_of_week': 'monday', 'day_of_year': 272, 'week_of_year': 40}, 'score': 0.6384953235234635}, {'id': 'ecaf358e-cb0e-4df8-b939-b6997da11d59', 'memory': 'User works best in the afternoon', 'user_id': 'bob', 'metadata': {'source': 'chat', 'category': 'work_habits'}, 'categories': ['user_preferences'], 'created_at': '2025-09-29T05:21:29.874045-07:00', 'updated_at': '2025-09-29T05:21:29.936120-07:00', 'expiration_date': None, 'structured_attributes': {'day': 29, 'hour': 12, 'year': 2025, 'month': 9, 'minute': 21, 'quarter': 3, 'is_weekend': False, 'day_of_week': 'monday', 'day_of_year': 272, 'week_of_year': 40}, 'score': 0.4113776157537967}]\n"
     ]
    }
   ],
   "source": [
    "# Search across all users (without user_id filter)\n",
    "# Note: Cloud API requires at least one filter (user_id, agent_id, app_id, run_id)\n",
    "general_results = client.search(\n",
    "    query=\"coffee preferences\",\n",
    "    user_id=\"bob\",  # Use bob's user_id since we added coffee preference for bob\n",
    "    limit=5,\n",
    ")\n",
    "print(\"Coffee preferences:\", general_results)"
   ]
  },
  {
   "cell_type": "markdown",
   "id": "195b5a36",
   "metadata": {},
   "source": [
    "### Updating Memories\n",
    "\n",
    "Memories can be updated with new information or corrected data."
   ]
  },
  {
   "cell_type": "code",
   "execution_count": null,
   "id": "3663f0d6",
   "metadata": {},
   "outputs": [
    {
     "name": "stdout",
     "output_type": "stream",
     "text": [
      "Memory updated: {'id': '896d8de2-e5ef-443c-ac3a-a2ace5029215', 'memory': 'Alice loves Italian food and is vegetarian, but also enjoys trying new cuisines occasionally', 'user_id': 'alice', 'metadata': {'category': 'food_preferences', 'source': 'chat', 'updated': True}, 'categories': ['personal_details'], 'created_at': '2025-09-29T05:20:51.480770-07:00', 'updated_at': '2025-09-29T05:25:10.419537-07:00', 'expiration_date': None, 'structured_attributes': {'day': 29, 'hour': 12, 'year': 2025, 'month': 9, 'minute': 20, 'quarter': 3, 'is_weekend': False, 'day_of_week': 'monday', 'day_of_year': 272, 'week_of_year': 40}}\n"
     ]
    }
   ],
   "source": [
    "# Update a memory with new information\n",
    "# Note: This would typically be done with a specific memory ID\n",
    "update_result = client.update(\n",
    "    memory_id=memory_id,\n",
    "    text=\"Alice loves Italian food and is vegetarian, but also enjoys trying new cuisines occasionally\",\n",
    "    metadata={\"category\": \"food_preferences\", \"source\": \"chat\", \"updated\": True},\n",
    ")\n",
    "print(\"Memory updated:\", update_result)\n",
    "\n",
    "# Note: After updating, you may need to wait a moment for search indexes to update\n",
    "# The updated content will be reflected in future searches"
   ]
  },
  {
   "cell_type": "markdown",
   "id": "b3e4050d",
   "metadata": {},
   "source": [
    "### Deleting Memories\n",
    "\n",
    "Individual memories can be deleted when no longer needed."
   ]
  },
  {
   "cell_type": "code",
   "execution_count": null,
   "id": "02280106",
   "metadata": {},
   "outputs": [
    {
     "name": "stdout",
     "output_type": "stream",
     "text": [
      "Memory deleted: {'message': 'Memory deleted successfully!'}\n"
     ]
    },
    {
     "name": "stderr",
     "output_type": "stream",
     "text": [
      "HTTP error occurred: Client error '404 Not Found' for url 'https://api.mem0.ai/v1/memories/896d8de2-e5ef-443c-ac3a-a2ace5029215/?org_id=org_b53cfn6U3x8Vy7aKtXLmhAdXs5gr4SrUauN9tkB0&project_id=proj_b36de36cd9ffffb4f9953c9e56162e78'\n",
      "For more information check: https://developer.mozilla.org/en-US/docs/Web/HTTP/Status/404\n"
     ]
    },
    {
     "name": "stdout",
     "output_type": "stream",
     "text": [
      "Memory successfully deleted: {\"error\":\"Memory not found!\"}\n"
     ]
    }
   ],
   "source": [
    "# Delete a specific memory\n",
    "delete_result = client.delete(memory_id)\n",
    "print(\"Memory deleted:\", delete_result)\n",
    "\n",
    "# Verify the memory is gone by trying to retrieve it\n",
    "try:\n",
    "    deleted_memory = client.get(memory_id)\n",
    "    print(\"Memory still exists:\", deleted_memory)\n",
    "except Exception as e:\n",
    "    print(\"Memory successfully deleted:\", str(e))\n",
    "\n",
    "# Note: Deleted memories are permanently removed and cannot be recovered"
   ]
  },
  {
   "cell_type": "markdown",
   "id": "010b3e33",
   "metadata": {},
   "source": [
    "## Advanced Usage Patterns"
   ]
  },
  {
   "cell_type": "markdown",
   "id": "8c465253",
   "metadata": {},
   "source": [
    "### Personal Assistant Example\n",
    "\n",
    "Mem0 is particularly useful for building personalized AI assistants that remember user preferences over time."
   ]
  },
  {
   "cell_type": "code",
   "execution_count": 23,
   "id": "6b0485cf",
   "metadata": {},
   "outputs": [
    {
     "name": "stdout",
     "output_type": "stream",
     "text": [
      "Alice's food preferences: ['Alice Loves Italian food', 'Alice Prefers vegetarian options', 'Alice Is allergic to nuts', 'Alice Prefers morning meetings']\n"
     ]
    }
   ],
   "source": [
    "def get_personalized_recommendation(user_id, query):\n",
    "    \"\"\"Get personalized recommendations based on user's memory\"\"\"\n",
    "\n",
    "    # Search user's memory for relevant preferences\n",
    "    memories = client.search(query=query, user_id=user_id, limit=10)\n",
    "\n",
    "    # Extract preferences from memories\n",
    "    preferences = []\n",
    "    for memory in memories:  # memories is already a list\n",
    "        preferences.append(memory[\"memory\"])\n",
    "\n",
    "    return preferences\n",
    "\n",
    "\n",
    "# Example usage\n",
    "user_prefs = get_personalized_recommendation(\"alice\", \"food recommendations\")\n",
    "print(\"Alice's food preferences:\", user_prefs)"
   ]
  },
  {
   "cell_type": "markdown",
   "id": "16ec8c82",
   "metadata": {},
   "source": [
    "### Customer Support Example\n",
    "\n",
    "Track customer interactions and provide context-aware support."
   ]
  },
  {
   "cell_type": "code",
   "execution_count": null,
   "id": "104d9457",
   "metadata": {},
   "outputs": [
    {
     "name": "stdout",
     "output_type": "stream",
     "text": [
      "Customer history: [{'id': 'e03f51de-81c5-4120-9a26-261e26f3b727', 'memory': 'User has login issues with Safari', 'user_id': 'customer_123', 'metadata': {'type': 'support', 'status': 'resolved'}, 'categories': None, 'created_at': '2025-09-29T05:22:52.270062-07:00', 'updated_at': '2025-09-29T05:22:52.335372-07:00', 'expiration_date': None, 'structured_attributes': {'day': 29, 'hour': 12, 'year': 2025, 'month': 9, 'minute': 22, 'quarter': 3, 'is_weekend': False, 'day_of_week': 'monday', 'day_of_year': 272, 'week_of_year': 40}, 'score': 0.3722194876932514}]\n"
     ]
    }
   ],
   "source": [
    "# Simulate customer support interactions\n",
    "def log_customer_interaction(customer_id, issue, resolution):\n",
    "    \"\"\"Log a customer support interaction\"\"\"\n",
    "    client.add(\n",
    "        messages=[\n",
    "            {\"role\": \"user\", \"content\": f\"Issue: {issue}\"},\n",
    "            {\"role\": \"assistant\", \"content\": f\"Resolution: {resolution}\"},\n",
    "        ],\n",
    "        user_id=customer_id,\n",
    "        metadata={\"type\": \"support\", \"status\": \"resolved\"},\n",
    "    )\n",
    "\n",
    "\n",
    "def get_customer_history(customer_id):\n",
    "    \"\"\"Retrieve customer's support history\"\"\"\n",
    "    return client.search(query=\"previous support issues\", user_id=customer_id, limit=20)\n",
    "\n",
    "\n",
    "# Example\n",
    "log_customer_interaction(\n",
    "    \"customer_123\", \"Login issues with Safari\", \"Cleared browser cache\"\n",
    ")\n",
    "history = get_customer_history(\"customer_123\")\n",
    "print(\"Customer history:\", history)"
   ]
  },
  {
   "cell_type": "markdown",
   "id": "5c9323bb",
   "metadata": {},
   "source": [
    "## Best Practices"
   ]
  },
  {
   "cell_type": "markdown",
   "id": "7dd9331d",
   "metadata": {},
   "source": [
    "### Memory Management\n",
    "- Use descriptive metadata to categorize memories\n",
    "- Include timestamps and context in metadata\n",
    "- Regularly clean up outdated memories\n",
    "- Use user_id to maintain separate memory spaces"
   ]
  },
  {
   "cell_type": "markdown",
   "id": "328ff0d4",
   "metadata": {},
   "source": [
    "### Search Optimization\n",
    "- Use natural language queries that match how users would ask\n",
    "- Filter by user_id for personalized results\n",
    "- Limit results to avoid information overload\n",
    "- Combine multiple search queries for complex scenarios"
   ]
  },
  {
   "cell_type": "markdown",
   "id": "1c9bb0a8",
   "metadata": {},
   "source": [
    "### Error Handling\n",
    "\n",
    "Always handle potential API errors and rate limits."
   ]
  },
  {
   "cell_type": "code",
   "execution_count": null,
   "id": "f7c497e4",
   "metadata": {},
   "outputs": [],
   "source": [
    "import time\n",
    "\n",
    "\n",
    "def safe_memory_operation(operation_func, *args, **kwargs):\n",
    "    \"\"\"Wrapper for safe memory operations with retry logic\"\"\"\n",
    "    max_retries = 3\n",
    "    for attempt in range(max_retries):\n",
    "        try:\n",
    "            return operation_func(*args, **kwargs)\n",
    "        except Exception as e:\n",
    "            if attempt == max_retries - 1:\n",
    "                raise e\n",
    "            print(f\"Attempt {attempt + 1} failed: {e}\")\n",
    "            time.sleep(2**attempt)  # Exponential backoff\n",
    "\n",
    "\n",
    "# Example usage\n",
    "# result = safe_memory_operation(client.add, messages=messages, user_id=\"alice\")"
   ]
  }
 ],
 "metadata": {
  "kernelspec": {
   "display_name": ".venv",
   "language": "python",
   "name": "python3"
  },
  "language_info": {
   "codemirror_mode": {
    "name": "ipython",
    "version": 3
   },
   "file_extension": ".py",
   "mimetype": "text/x-python",
   "name": "python",
   "nbconvert_exporter": "python",
   "pygments_lexer": "ipython3",
   "version": "3.12.11"
  }
 },
 "nbformat": 4,
 "nbformat_minor": 5
}
