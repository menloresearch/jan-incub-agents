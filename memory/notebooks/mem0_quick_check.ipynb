{
 "cells": [
  {
   "cell_type": "markdown",
   "id": "7fb27b941602401d91542211134fc71a",
   "metadata": {},
   "source": [
    "# Mem0 API Quick Check\n",
    "This notebook uses the `mem0ai` Python client against the local Mem0-compatible server to verify basic operations."
   ]
  },
  {
   "cell_type": "markdown",
   "id": "cfc08cc4",
   "metadata": {},
   "source": [
    "## Mem0 Service"
   ]
  },
  {
   "cell_type": "code",
   "execution_count": null,
   "id": "7f9d655d",
   "metadata": {},
   "outputs": [
    {
     "data": {
      "text/plain": [
       "<mem0.client.main.MemoryClient at 0x78805751ab70>"
      ]
     },
     "execution_count": 48,
     "metadata": {},
     "output_type": "execute_result"
    }
   ],
   "source": [
    "import os\n",
    "import time\n",
    "from contextlib import contextmanager\n",
    "\n",
    "from dotenv import find_dotenv, load_dotenv\n",
    "from mem0 import MemoryClient\n",
    "\n",
    "load_dotenv(find_dotenv(), override=True)\n",
    "\n",
    "\n",
    "# Simple timing utility\n",
    "@contextmanager\n",
    "def timer(description=\"Operation\"):\n",
    "    start = time.time()\n",
    "    print(f\"Starting: {description}\")\n",
    "    try:\n",
    "        yield\n",
    "    finally:\n",
    "        elapsed = time.time() - start\n",
    "        print(f\"Completed: {description} in {elapsed:.2f} seconds\")\n",
    "\n",
    "\n",
    "API_KEY = os.getenv(\"MEM0_API_KEY\")\n",
    "HOST = os.getenv(\"MEM0_API_HOST\") or os.getenv(\"MEM0_API_BASE\")\n",
    "\n",
    "if HOST:\n",
    "    client = MemoryClient(api_key=API_KEY, host=HOST)\n",
    "else:\n",
    "    client = MemoryClient(api_key=API_KEY)\n",
    "\n",
    "client"
   ]
  },
  {
   "cell_type": "code",
   "execution_count": 30,
   "id": "d99fd9c1",
   "metadata": {},
   "outputs": [],
   "source": [
    "# Shared test data\n",
    "test_messages = [\n",
    "    {\"role\": \"user\", \"content\": \"My name is Alice\"},\n",
    "    {\"role\": \"assistant\", \"content\": \"Nice to meet you\"},\n",
    "]\n",
    "test_user_id = \"alice\"\n",
    "test_agent_id = \"agent-123\"\n",
    "test_metadata = {\"source\": \"notebook\"}\n",
    "test_query = \"favorite color\""
   ]
  },
  {
   "cell_type": "code",
   "execution_count": 31,
   "id": "acae54e37e7d407bbb7b55eff062a284",
   "metadata": {},
   "outputs": [
    {
     "data": {
      "text/plain": [
       "{'results': [{'id': '64fdb880-7444-45e2-870a-a5a315f9b088',\n",
       "   'event': 'ADD',\n",
       "   'memory': 'User Name is Alice',\n",
       "   'structured_attributes': {'day': 29,\n",
       "    'hour': 12,\n",
       "    'year': 2025,\n",
       "    'month': 9,\n",
       "    'minute': 10,\n",
       "    'quarter': 3,\n",
       "    'is_weekend': False,\n",
       "    'day_of_week': 'monday',\n",
       "    'day_of_year': 272,\n",
       "    'week_of_year': 40}}]}"
      ]
     },
     "execution_count": 31,
     "metadata": {},
     "output_type": "execute_result"
    }
   ],
   "source": [
    "add_result = client.add(\n",
    "    messages=test_messages,\n",
    "    user_id=test_user_id,\n",
    "    agent_id=test_agent_id,\n",
    "    metadata=test_metadata,\n",
    ")\n",
    "add_result"
   ]
  },
  {
   "cell_type": "code",
   "execution_count": 32,
   "id": "9a63283cbaf04dbcab1f6479b197f3a8",
   "metadata": {},
   "outputs": [
    {
     "data": {
      "text/plain": [
       "{'id': '64fdb880-7444-45e2-870a-a5a315f9b088',\n",
       " 'memory': 'User Name is Alice',\n",
       " 'user_id': 'alice',\n",
       " 'metadata': {'source': 'notebook'},\n",
       " 'categories': None,\n",
       " 'created_at': '2025-09-29T05:10:56.658609-07:00',\n",
       " 'updated_at': '2025-09-29T05:10:56.720694-07:00',\n",
       " 'expiration_date': None,\n",
       " 'structured_attributes': {'day': 29,\n",
       "  'hour': 12,\n",
       "  'year': 2025,\n",
       "  'month': 9,\n",
       "  'minute': 10,\n",
       "  'quarter': 3,\n",
       "  'is_weekend': False,\n",
       "  'day_of_week': 'monday',\n",
       "  'day_of_year': 272,\n",
       "  'week_of_year': 40}}"
      ]
     },
     "execution_count": 32,
     "metadata": {},
     "output_type": "execute_result"
    }
   ],
   "source": [
    "memory_id = add_result[\"results\"][0][\"id\"]\n",
    "client.get(memory_id)"
   ]
  },
  {
   "cell_type": "code",
   "execution_count": 33,
   "id": "8dd0d8092fe74a7c96281538738b07e2",
   "metadata": {},
   "outputs": [
    {
     "data": {
      "text/plain": [
       "[]"
      ]
     },
     "execution_count": 33,
     "metadata": {},
     "output_type": "execute_result"
    }
   ],
   "source": [
    "client.search(\n",
    "    query=test_query,\n",
    "    user_id=test_user_id,\n",
    "    limit=5,\n",
    ")"
   ]
  },
  {
   "cell_type": "code",
   "execution_count": 34,
   "id": "72eea5119410473aa328ad9291626812",
   "metadata": {},
   "outputs": [
    {
     "data": {
      "text/plain": [
       "{'message': 'Memory deleted successfully!'}"
      ]
     },
     "execution_count": 34,
     "metadata": {},
     "output_type": "execute_result"
    }
   ],
   "source": [
    "client.delete(memory_id)"
   ]
  },
  {
   "cell_type": "markdown",
   "id": "6f362054",
   "metadata": {},
   "source": [
    "### Testing Local Server"
   ]
  },
  {
   "cell_type": "code",
   "execution_count": 35,
   "id": "8a216acb",
   "metadata": {},
   "outputs": [
    {
     "data": {
      "text/plain": [
       "<mem0.client.main.MemoryClient at 0x7880573da510>"
      ]
     },
     "execution_count": 35,
     "metadata": {},
     "output_type": "execute_result"
    }
   ],
   "source": [
    "local_client = MemoryClient(api_key=API_KEY, host=\"http://localhost:8000\")\n",
    "local_client"
   ]
  },
  {
   "cell_type": "code",
   "execution_count": 36,
   "id": "be5692ce",
   "metadata": {},
   "outputs": [
    {
     "data": {
      "text/plain": [
       "{'results': [{'id': 'd6a806e6-58e0-4dd9-a909-61f99c09d2bf',\n",
       "   'memory': 'user: My name is Alice',\n",
       "   'event': 'ADD'},\n",
       "  {'id': 'b94b6e70-25ad-4fae-9eae-5bc090a8796f',\n",
       "   'memory': 'assistant: Nice to meet you',\n",
       "   'event': 'ADD'}]}"
      ]
     },
     "execution_count": 36,
     "metadata": {},
     "output_type": "execute_result"
    }
   ],
   "source": [
    "local_add_result = local_client.add(\n",
    "    messages=test_messages,\n",
    "    user_id=test_user_id,\n",
    "    agent_id=test_agent_id,\n",
    "    metadata=test_metadata,\n",
    ")\n",
    "local_add_result"
   ]
  },
  {
   "cell_type": "code",
   "execution_count": 37,
   "id": "561dac70",
   "metadata": {},
   "outputs": [
    {
     "data": {
      "text/plain": [
       "{'id': 'd6a806e6-58e0-4dd9-a909-61f99c09d2bf',\n",
       " 'memory': 'user: My name is Alice',\n",
       " 'user_id': 'alice',\n",
       " 'agent_id': 'agent-123',\n",
       " 'run_id': None,\n",
       " 'metadata': {'source': 'notebook'},\n",
       " 'created_at': '2025-09-29T12:10:58.029971Z',\n",
       " 'updated_at': None}"
      ]
     },
     "execution_count": 37,
     "metadata": {},
     "output_type": "execute_result"
    }
   ],
   "source": [
    "local_memory_id = local_add_result[\"results\"][0][\"id\"]\n",
    "local_client.get(local_memory_id)"
   ]
  },
  {
   "cell_type": "code",
   "execution_count": 38,
   "id": "344eb5cd",
   "metadata": {},
   "outputs": [
    {
     "data": {
      "text/plain": [
       "{'results': [{'id': 'b94b6e70-25ad-4fae-9eae-5bc090a8796f',\n",
       "   'memory': 'assistant: Nice to meet you',\n",
       "   'user_id': 'alice',\n",
       "   'agent_id': 'agent-123',\n",
       "   'run_id': None,\n",
       "   'metadata': {'source': 'notebook'},\n",
       "   'created_at': '2025-09-29T12:10:58.029971Z',\n",
       "   'updated_at': None,\n",
       "   'score': 0.34146341463414637},\n",
       "  {'id': 'd6a806e6-58e0-4dd9-a909-61f99c09d2bf',\n",
       "   'memory': 'user: My name is Alice',\n",
       "   'user_id': 'alice',\n",
       "   'agent_id': 'agent-123',\n",
       "   'run_id': None,\n",
       "   'metadata': {'source': 'notebook'},\n",
       "   'created_at': '2025-09-29T12:10:58.029971Z',\n",
       "   'updated_at': None,\n",
       "   'score': 0.2222222222222222}]}"
      ]
     },
     "execution_count": 38,
     "metadata": {},
     "output_type": "execute_result"
    }
   ],
   "source": [
    "local_client.search(\n",
    "    query=test_query,\n",
    "    user_id=test_user_id,\n",
    "    limit=5,\n",
    ")"
   ]
  },
  {
   "cell_type": "code",
   "execution_count": 39,
   "id": "6809ddb4",
   "metadata": {},
   "outputs": [
    {
     "data": {
      "text/plain": [
       "{'message': 'Memory deleted successfully'}"
      ]
     },
     "execution_count": 39,
     "metadata": {},
     "output_type": "execute_result"
    }
   ],
   "source": [
    "local_client.delete(local_memory_id)"
   ]
  },
  {
   "cell_type": "markdown",
   "id": "78c77217",
   "metadata": {},
   "source": [
    "## Async Client and Batch Processing"
   ]
  },
  {
   "cell_type": "code",
   "execution_count": null,
   "id": "3b08815f",
   "metadata": {},
   "outputs": [
    {
     "name": "stdout",
     "output_type": "stream",
     "text": [
      "Async client created: <mem0.client.main.AsyncMemoryClient object at 0x788057752ae0>\n"
     ]
    }
   ],
   "source": [
    "import asyncio\n",
    "\n",
    "from mem0 import AsyncMemoryClient\n",
    "\n",
    "\n",
    "# Async client setup\n",
    "async def create_async_client():\n",
    "    if HOST:\n",
    "        return AsyncMemoryClient(api_key=API_KEY, host=HOST)\n",
    "    else:\n",
    "        return AsyncMemoryClient(api_key=API_KEY)\n",
    "\n",
    "\n",
    "async_client = await create_async_client()\n",
    "print(\"Async client created:\", async_client)"
   ]
  },
  {
   "cell_type": "code",
   "execution_count": null,
   "id": "3a4eacbe",
   "metadata": {},
   "outputs": [
    {
     "name": "stdout",
     "output_type": "stream",
     "text": [
      "Prepared 5 memories for batch processing\n"
     ]
    }
   ],
   "source": [
    "# Batch processing example - adding multiple memories at once\n",
    "batch_users = [\"user_1\", \"user_2\", \"user_3\", \"user_4\", \"user_5\"]\n",
    "batch_memories = []\n",
    "\n",
    "for i, user_id in enumerate(batch_users):\n",
    "    messages = [\n",
    "        {\n",
    "            \"role\": \"user\",\n",
    "            \"content\": f\"I am {user_id} and I like color {['red', 'blue', 'green', 'yellow', 'purple'][i]}\",\n",
    "        },\n",
    "        {\n",
    "            \"role\": \"assistant\",\n",
    "            \"content\": f\"Got it! I'll remember {user_id} likes {['red', 'blue', 'green', 'yellow', 'purple'][i]}\",\n",
    "        },\n",
    "    ]\n",
    "    batch_memories.append(\n",
    "        {\n",
    "            \"messages\": messages,\n",
    "            \"user_id\": user_id,\n",
    "            \"metadata\": {\n",
    "                \"batch\": True,\n",
    "                \"color_preference\": [\"red\", \"blue\", \"green\", \"yellow\", \"purple\"][i],\n",
    "            },\n",
    "        }\n",
    "    )\n",
    "\n",
    "print(f\"Prepared {len(batch_memories)} memories for batch processing\")"
   ]
  },
  {
   "cell_type": "code",
   "execution_count": 49,
   "id": "59a882cd",
   "metadata": {},
   "outputs": [
    {
     "name": "stdout",
     "output_type": "stream",
     "text": [
      "Starting: Synchronous batch memory addition\n",
      "Completed: Synchronous batch memory addition in 35.70 seconds\n",
      "Added 5 memories synchronously\n"
     ]
    }
   ],
   "source": [
    "# Synchronous batch processing with timing\n",
    "with timer(\"Synchronous batch memory addition\"):\n",
    "    batch_results = []\n",
    "    for memory_data in batch_memories:\n",
    "        result = client.add(**memory_data)\n",
    "        batch_results.append(result)\n",
    "\n",
    "print(f\"Added {len(batch_results)} memories synchronously\")"
   ]
  },
  {
   "cell_type": "code",
   "execution_count": null,
   "id": "b179edf0",
   "metadata": {},
   "outputs": [
    {
     "name": "stdout",
     "output_type": "stream",
     "text": [
      "Starting: Asynchronous batch memory addition\n",
      "Completed: Asynchronous batch memory addition in 9.95 seconds\n",
      "Added 5 memories asynchronously\n"
     ]
    }
   ],
   "source": [
    "# Async batch processing\n",
    "async def async_batch_add(memories):\n",
    "    tasks = []\n",
    "    for memory_data in memories:\n",
    "        task = async_client.add(**memory_data)\n",
    "        tasks.append(task)\n",
    "\n",
    "    # Execute all tasks concurrently\n",
    "    results = await asyncio.gather(*tasks)\n",
    "    return results\n",
    "\n",
    "\n",
    "# Run async batch processing with timing\n",
    "async def run_async_batch():\n",
    "    with timer(\"Asynchronous batch memory addition\"):\n",
    "        results = await async_batch_add(batch_memories)\n",
    "        return results\n",
    "\n",
    "\n",
    "# Execute async batch\n",
    "async_batch_results = await run_async_batch()\n",
    "print(f\"Added {len(async_batch_results)} memories asynchronously\")"
   ]
  },
  {
   "cell_type": "code",
   "execution_count": null,
   "id": "7a8afc14",
   "metadata": {},
   "outputs": [
    {
     "name": "stdout",
     "output_type": "stream",
     "text": [
      "Starting: Synchronous batch search\n",
      "Completed: Synchronous batch search in 2.24 seconds\n",
      "Starting: Asynchronous batch search\n",
      "Completed: Asynchronous batch search in 1.93 seconds\n",
      "Sync search found 10 total memories\n",
      "Async search found 10 total memories\n"
     ]
    }
   ],
   "source": [
    "# Batch search operations\n",
    "async def async_batch_search(queries_and_users):\n",
    "    tasks = []\n",
    "    for query, user_id in queries_and_users:\n",
    "        task = async_client.search(query=query, user_id=user_id, limit=3)\n",
    "        tasks.append(task)\n",
    "\n",
    "    results = await asyncio.gather(*tasks)\n",
    "    return results\n",
    "\n",
    "\n",
    "# Prepare batch search queries\n",
    "search_queries = [\n",
    "    (\"color preferences\", \"user_1\"),\n",
    "    (\"color preferences\", \"user_2\"),\n",
    "    (\"color preferences\", \"user_3\"),\n",
    "    (\"color preferences\", \"user_4\"),\n",
    "    (\"color preferences\", \"user_5\"),\n",
    "]\n",
    "\n",
    "# Compare sync vs async search performance\n",
    "with timer(\"Synchronous batch search\"):\n",
    "    sync_search_results = []\n",
    "    for query, user_id in search_queries:\n",
    "        result = client.search(query=query, user_id=user_id, limit=3)\n",
    "        sync_search_results.append(result)\n",
    "\n",
    "\n",
    "async def run_async_search():\n",
    "    with timer(\"Asynchronous batch search\"):\n",
    "        results = await async_batch_search(search_queries)\n",
    "        return results\n",
    "\n",
    "\n",
    "async_search_results = await run_async_search()\n",
    "\n",
    "print(f\"Sync search found {sum(len(r) for r in sync_search_results)} total memories\")\n",
    "print(f\"Async search found {sum(len(r) for r in async_search_results)} total memories\")"
   ]
  },
  {
   "cell_type": "code",
   "execution_count": null,
   "id": "1ef8dda2",
   "metadata": {},
   "outputs": [
    {
     "name": "stdout",
     "output_type": "stream",
     "text": [
      "Cleaning up 4 memories...\n",
      "Batch cleanup completed\n"
     ]
    }
   ],
   "source": [
    "# Cleanup: Delete batch memories\n",
    "async def cleanup_batch_memories():\n",
    "    # Get all memory IDs from batch results\n",
    "    memory_ids = []\n",
    "    for result in async_batch_results:\n",
    "        if \"results\" in result:\n",
    "            memory_ids.extend([mem[\"id\"] for mem in result[\"results\"]])\n",
    "\n",
    "    print(f\"Cleaning up {len(memory_ids)} memories...\")\n",
    "\n",
    "    # Delete all memories concurrently\n",
    "    delete_tasks = [async_client.delete(mem_id) for mem_id in memory_ids]\n",
    "    await asyncio.gather(*delete_tasks)\n",
    "    print(\"Batch cleanup completed\")\n",
    "\n",
    "\n",
    "await cleanup_batch_memories()"
   ]
  }
 ],
 "metadata": {
  "kernelspec": {
   "display_name": ".venv",
   "language": "python",
   "name": "python3"
  },
  "language_info": {
   "codemirror_mode": {
    "name": "ipython",
    "version": 3
   },
   "file_extension": ".py",
   "mimetype": "text/x-python",
   "name": "python",
   "nbconvert_exporter": "python",
   "pygments_lexer": "ipython3",
   "version": "3.12.3"
  }
 },
 "nbformat": 4,
 "nbformat_minor": 5
}
